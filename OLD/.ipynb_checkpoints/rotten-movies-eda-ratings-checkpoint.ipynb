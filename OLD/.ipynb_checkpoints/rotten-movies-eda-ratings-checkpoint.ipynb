{
 "cells": [
  {
   "cell_type": "code",
   "execution_count": 1,
   "id": "00aab740-e4e5-4872-b4ec-3c9d7c171516",
   "metadata": {},
   "outputs": [],
   "source": [
    "import pandas as pd\n",
    "import seaborn as sns\n",
    "import matplotlib.pyplot as plt\n",
    "from collections import Counter\n",
    "from sklearn.preprocessing import MultiLabelBinarizer\n",
    "import unicodedata\n",
    "import re"
   ]
  },
  {
   "cell_type": "code",
   "execution_count": 14,
   "id": "9f00295a-aada-4cda-8c37-907991e948ce",
   "metadata": {},
   "outputs": [
    {
     "data": {
      "text/html": [
       "<div>\n",
       "<style scoped>\n",
       "    .dataframe tbody tr th:only-of-type {\n",
       "        vertical-align: middle;\n",
       "    }\n",
       "\n",
       "    .dataframe tbody tr th {\n",
       "        vertical-align: top;\n",
       "    }\n",
       "\n",
       "    .dataframe thead th {\n",
       "        text-align: right;\n",
       "    }\n",
       "</style>\n",
       "<table border=\"1\" class=\"dataframe\">\n",
       "  <thead>\n",
       "    <tr style=\"text-align: right;\">\n",
       "      <th></th>\n",
       "      <th>movieTitle</th>\n",
       "      <th>tomatometer_rating</th>\n",
       "      <th>audience_rating</th>\n",
       "    </tr>\n",
       "  </thead>\n",
       "  <tbody>\n",
       "    <tr>\n",
       "      <th>0</th>\n",
       "      <td>Percy Jackson  the Olympians The Lightning Thief</td>\n",
       "      <td>49.0</td>\n",
       "      <td>53.0</td>\n",
       "    </tr>\n",
       "    <tr>\n",
       "      <th>1</th>\n",
       "      <td>Please Give</td>\n",
       "      <td>87.0</td>\n",
       "      <td>64.0</td>\n",
       "    </tr>\n",
       "    <tr>\n",
       "      <th>2</th>\n",
       "      <td>10</td>\n",
       "      <td>67.0</td>\n",
       "      <td>53.0</td>\n",
       "    </tr>\n",
       "    <tr>\n",
       "      <th>3</th>\n",
       "      <td>12 Angry Men Twelve Angry Men</td>\n",
       "      <td>100.0</td>\n",
       "      <td>97.0</td>\n",
       "    </tr>\n",
       "    <tr>\n",
       "      <th>4</th>\n",
       "      <td>20000 Leagues Under The Sea</td>\n",
       "      <td>89.0</td>\n",
       "      <td>74.0</td>\n",
       "    </tr>\n",
       "  </tbody>\n",
       "</table>\n",
       "</div>"
      ],
      "text/plain": [
       "                                         movieTitle  tomatometer_rating  \\\n",
       "0  Percy Jackson  the Olympians The Lightning Thief                49.0   \n",
       "1                                       Please Give                87.0   \n",
       "2                                                10                67.0   \n",
       "3                     12 Angry Men Twelve Angry Men               100.0   \n",
       "4                       20000 Leagues Under The Sea                89.0   \n",
       "\n",
       "   audience_rating  \n",
       "0             53.0  \n",
       "1             64.0  \n",
       "2             53.0  \n",
       "3             97.0  \n",
       "4             74.0  "
      ]
     },
     "execution_count": 14,
     "metadata": {},
     "output_type": "execute_result"
    }
   ],
   "source": [
    "# Load the Rotten Tomatoes dataset (adjust the filename if needed)\n",
    "rt_df = pd.read_csv('RottenTomatoes/rotten_tomatoes_movies.csv')\n",
    "\n",
    "# Create an explicit copy to avoid SettingWithCopyWarning\n",
    "df_ratings = rt_df[[\n",
    "    \"movie_title\",\"tomatometer_rating\", \"audience_rating\",\n",
    "]].copy()\n",
    "\n",
    "# Convert columns to numeric safely\n",
    "df_ratings.loc[:, \"tomatometer_rating\"] = pd.to_numeric(df_ratings[\"tomatometer_rating\"], errors=\"coerce\")\n",
    "df_ratings.loc[:, \"audience_rating\"] = pd.to_numeric(df_ratings[\"audience_rating\"], errors=\"coerce\")\n",
    "\n",
    "median_tomatometer = df_ratings['tomatometer_rating'].median()\n",
    "median_audience = df_ratings['audience_rating'].median()\n",
    "\n",
    "df_ratings[\"tomatometer_rating\"] = df_ratings[\"tomatometer_rating\"].fillna(median_tomatometer)\n",
    "df_ratings[\"audience_rating\"] = df_ratings[\"audience_rating\"].fillna(median_audience)\n",
    "\n",
    "def normalize_text(text):\n",
    "    if pd.isna(text):  # Handle missing values\n",
    "        return \"\"\n",
    "    text = str(text)\n",
    "    text = unicodedata.normalize('NFKD', text).encode('ASCII', 'ignore').decode('utf-8')  # Remove accents\n",
    "    text = re.sub(r'[^\\w\\s]', '', text)  # Remove special characters\n",
    "    return text.strip()\n",
    "\n",
    "df_ratings[\"movieTitle\"] = df_ratings[\"movie_title\"].apply(normalize_text)\n",
    "\n",
    "# Drop the 'movie_title' column\n",
    "df_ratings = df_ratings.drop(columns=[\"movie_title\"])\n",
    "\n",
    "# Move 'movieTitle' to the first column position\n",
    "cols = list(df_ratings.columns)\n",
    "cols.insert(0, cols.pop(cols.index(\"movieTitle\")))\n",
    "df_ratings = df_ratings[cols]\n",
    "\n",
    "df_ratings.to_csv(\"cleaned/rottentomatoRatings.csv\", index=False)\n",
    "df_ratings.head()"
   ]
  },
  {
   "cell_type": "code",
   "execution_count": 10,
   "id": "78252d90-1f4b-4b54-a9ac-86c1f0721829",
   "metadata": {},
   "outputs": [],
   "source": [
    "rt_df_cleaned.to_csv(\"cleaned/rottentomatoRatings.csv\", index=False)"
   ]
  },
  {
   "cell_type": "code",
   "execution_count": null,
   "id": "1aa8c7c5-2457-4e6f-84aa-df590d24afdf",
   "metadata": {},
   "outputs": [],
   "source": []
  }
 ],
 "metadata": {
  "kernelspec": {
   "display_name": "Python 3 (ipykernel)",
   "language": "python",
   "name": "python3"
  },
  "language_info": {
   "codemirror_mode": {
    "name": "ipython",
    "version": 3
   },
   "file_extension": ".py",
   "mimetype": "text/x-python",
   "name": "python",
   "nbconvert_exporter": "python",
   "pygments_lexer": "ipython3",
   "version": "3.13.2"
  }
 },
 "nbformat": 4,
 "nbformat_minor": 5
}
