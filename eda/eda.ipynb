{
 "cells": [
  {
   "cell_type": "markdown",
   "metadata": {},
   "source": [
    "# EDA"
   ]
  },
  {
   "cell_type": "code",
   "execution_count": 8,
   "metadata": {},
   "outputs": [],
   "source": [
    "import pandas as pd\n",
    "import numpy as np\n",
    "import glob\n",
    "import matplotlib.pyplot as plt"
   ]
  },
  {
   "cell_type": "code",
   "execution_count": 9,
   "metadata": {},
   "outputs": [
    {
     "data": {
      "text/html": [
       "<div>\n",
       "<style scoped>\n",
       "    .dataframe tbody tr th:only-of-type {\n",
       "        vertical-align: middle;\n",
       "    }\n",
       "\n",
       "    .dataframe tbody tr th {\n",
       "        vertical-align: top;\n",
       "    }\n",
       "\n",
       "    .dataframe thead th {\n",
       "        text-align: right;\n",
       "    }\n",
       "</style>\n",
       "<table border=\"1\" class=\"dataframe\">\n",
       "  <thead>\n",
       "    <tr style=\"text-align: right;\">\n",
       "      <th></th>\n",
       "      <th>Unnamed: 0</th>\n",
       "      <th>tconst</th>\n",
       "      <th>primaryTitle</th>\n",
       "      <th>originalTitle</th>\n",
       "      <th>startYear</th>\n",
       "      <th>endYear</th>\n",
       "      <th>runtimeMinutes</th>\n",
       "      <th>numVotes</th>\n",
       "      <th>label</th>\n",
       "    </tr>\n",
       "  </thead>\n",
       "  <tbody>\n",
       "    <tr>\n",
       "      <th>0</th>\n",
       "      <td>4</td>\n",
       "      <td>tt0010600</td>\n",
       "      <td>The Doll</td>\n",
       "      <td>Die Puppe</td>\n",
       "      <td>1919</td>\n",
       "      <td>\\N</td>\n",
       "      <td>66</td>\n",
       "      <td>1898.0</td>\n",
       "      <td>True</td>\n",
       "    </tr>\n",
       "    <tr>\n",
       "      <th>1</th>\n",
       "      <td>7</td>\n",
       "      <td>tt0011841</td>\n",
       "      <td>Way Down East</td>\n",
       "      <td>Way Down East</td>\n",
       "      <td>1920</td>\n",
       "      <td>\\N</td>\n",
       "      <td>145</td>\n",
       "      <td>5376.0</td>\n",
       "      <td>True</td>\n",
       "    </tr>\n",
       "    <tr>\n",
       "      <th>2</th>\n",
       "      <td>9</td>\n",
       "      <td>tt0012494</td>\n",
       "      <td>Déstiny</td>\n",
       "      <td>Der müde Tod</td>\n",
       "      <td>1921</td>\n",
       "      <td>\\N</td>\n",
       "      <td>97</td>\n",
       "      <td>5842.0</td>\n",
       "      <td>True</td>\n",
       "    </tr>\n",
       "    <tr>\n",
       "      <th>3</th>\n",
       "      <td>25</td>\n",
       "      <td>tt0015163</td>\n",
       "      <td>The Navigator</td>\n",
       "      <td>The Navigator</td>\n",
       "      <td>1924</td>\n",
       "      <td>\\N</td>\n",
       "      <td>59</td>\n",
       "      <td>9652.0</td>\n",
       "      <td>True</td>\n",
       "    </tr>\n",
       "    <tr>\n",
       "      <th>4</th>\n",
       "      <td>38</td>\n",
       "      <td>tt0016220</td>\n",
       "      <td>The Phantom of the Opera</td>\n",
       "      <td>The Phantom of the Opera</td>\n",
       "      <td>1925</td>\n",
       "      <td>\\N</td>\n",
       "      <td>93</td>\n",
       "      <td>17887.0</td>\n",
       "      <td>True</td>\n",
       "    </tr>\n",
       "  </tbody>\n",
       "</table>\n",
       "</div>"
      ],
      "text/plain": [
       "   Unnamed: 0     tconst              primaryTitle             originalTitle  \\\n",
       "0           4  tt0010600                  The Doll                 Die Puppe   \n",
       "1           7  tt0011841             Way Down East             Way Down East   \n",
       "2           9  tt0012494                   Déstiny              Der müde Tod   \n",
       "3          25  tt0015163             The Navigator             The Navigator   \n",
       "4          38  tt0016220  The Phantom of the Opera  The Phantom of the Opera   \n",
       "\n",
       "  startYear endYear runtimeMinutes  numVotes  label  \n",
       "0      1919      \\N             66    1898.0   True  \n",
       "1      1920      \\N            145    5376.0   True  \n",
       "2      1921      \\N             97    5842.0   True  \n",
       "3      1924      \\N             59    9652.0   True  \n",
       "4      1925      \\N             93   17887.0   True  "
      ]
     },
     "execution_count": 9,
     "metadata": {},
     "output_type": "execute_result"
    }
   ],
   "source": [
    "# Get a list of all CSV files in the imdb directory\n",
    "csv_files = glob.glob('../imdb/train/train*.csv')\n",
    "\n",
    "# Check if the list is empty\n",
    "if not csv_files:\n",
    "    raise ValueError(\"No CSV files found in the specified directory.\")\n",
    "\n",
    "# Read each CSV file and concatenate them into a single dataframe\n",
    "train_df = pd.concat([pd.read_csv(f) for f in csv_files], ignore_index=True)\n",
    "\n",
    "train_df.head()"
   ]
  },
  {
   "cell_type": "code",
   "execution_count": 10,
   "metadata": {},
   "outputs": [
    {
     "name": "stdout",
     "output_type": "stream",
     "text": [
      "The amount of movies in the data is: 7959\n"
     ]
    }
   ],
   "source": [
    "print(f'The amount of movies in the data is: {train_df.shape[0]}')"
   ]
  },
  {
   "cell_type": "code",
   "execution_count": 11,
   "metadata": {
    "vscode": {
     "languageId": "ruby"
    }
   },
   "outputs": [
    {
     "name": "stdout",
     "output_type": "stream",
     "text": [
      "Number of null or empty values in 'startYear': 786\n",
      "Number of null or empty values in 'endYear': 7173\n"
     ]
    },
    {
     "data": {
      "image/png": "[encoded data removed]",
      "text/plain": [
       "<Figure size 640x480 with 1 Axes>"
      ]
     },
     "metadata": {},
     "output_type": "display_data"
    }
   ],
   "source": [
    "# Create a new column to indicate the status of startYear and endYear\n",
    "train_df['year_status'] = train_df.apply(lambda row: 'Both' if row['startYear'] != '\\\\N' and row['endYear'] != '\\\\N' else 'Only startYear' if row['startYear'] != '\\\\N' else 'Only endYear' if row['endYear'] != '\\\\N' else 'None', axis=1)\n",
    "\n",
    "start_year_null_or_empty = train_df['startYear'].isnull() | (train_df['startYear'] == '\\\\N')\n",
    "end_year_null_or_empty = train_df['endYear'].isnull() | (train_df['endYear'] == '\\\\N')\n",
    "\n",
    "print(f\"Number of null or empty values in 'startYear': {start_year_null_or_empty.sum()}\")\n",
    "print(f\"Number of null or empty values in 'endYear': {end_year_null_or_empty.sum()}\")\n",
    "\n",
    "\n",
    "# Plot the results\n",
    "year_status_counts = train_df['year_status'].value_counts()\n",
    "ax = year_status_counts.plot(kind='bar')\n",
    "plt.xlabel('Year Status')\n",
    "plt.ylabel('Count')\n",
    "plt.title('Count of Year Status in train_df')\n",
    "\n",
    "# Add values on top of the bars\n",
    "for i in ax.containers:\n",
    "    ax.bar_label(i)\n",
    "\n",
    "plt.show()"
   ]
  },
  {
   "cell_type": "code",
   "execution_count": null,
   "metadata": {},
   "outputs": [
    {
     "data": {
      "text/html": [
       "<div>\n",
       "<style scoped>\n",
       "    .dataframe tbody tr th:only-of-type {\n",
       "        vertical-align: middle;\n",
       "    }\n",
       "\n",
       "    .dataframe tbody tr th {\n",
       "        vertical-align: top;\n",
       "    }\n",
       "\n",
       "    .dataframe thead th {\n",
       "        text-align: right;\n",
       "    }\n",
       "</style>\n",
       "<table border=\"1\" class=\"dataframe\">\n",
       "  <thead>\n",
       "    <tr style=\"text-align: right;\">\n",
       "      <th></th>\n",
       "      <th>Unnamed: 0</th>\n",
       "      <th>tconst</th>\n",
       "      <th>primaryTitle</th>\n",
       "      <th>originalTitle</th>\n",
       "      <th>runtimeMinutes</th>\n",
       "      <th>numVotes</th>\n",
       "      <th>label</th>\n",
       "      <th>Year</th>\n",
       "    </tr>\n",
       "  </thead>\n",
       "  <tbody>\n",
       "    <tr>\n",
       "      <th>0</th>\n",
       "      <td>4</td>\n",
       "      <td>tt0010600</td>\n",
       "      <td>The Doll</td>\n",
       "      <td>Die Puppe</td>\n",
       "      <td>66</td>\n",
       "      <td>1898.0</td>\n",
       "      <td>True</td>\n",
       "      <td>1919</td>\n",
       "    </tr>\n",
       "    <tr>\n",
       "      <th>1</th>\n",
       "      <td>7</td>\n",
       "      <td>tt0011841</td>\n",
       "      <td>Way Down East</td>\n",
       "      <td>Way Down East</td>\n",
       "      <td>145</td>\n",
       "      <td>5376.0</td>\n",
       "      <td>True</td>\n",
       "      <td>1920</td>\n",
       "    </tr>\n",
       "    <tr>\n",
       "      <th>2</th>\n",
       "      <td>9</td>\n",
       "      <td>tt0012494</td>\n",
       "      <td>Déstiny</td>\n",
       "      <td>Der müde Tod</td>\n",
       "      <td>97</td>\n",
       "      <td>5842.0</td>\n",
       "      <td>True</td>\n",
       "      <td>1921</td>\n",
       "    </tr>\n",
       "    <tr>\n",
       "      <th>3</th>\n",
       "      <td>25</td>\n",
       "      <td>tt0015163</td>\n",
       "      <td>The Navigator</td>\n",
       "      <td>The Navigator</td>\n",
       "      <td>59</td>\n",
       "      <td>9652.0</td>\n",
       "      <td>True</td>\n",
       "      <td>1924</td>\n",
       "    </tr>\n",
       "    <tr>\n",
       "      <th>4</th>\n",
       "      <td>38</td>\n",
       "      <td>tt0016220</td>\n",
       "      <td>The Phantom of the Opera</td>\n",
       "      <td>The Phantom of the Opera</td>\n",
       "      <td>93</td>\n",
       "      <td>17887.0</td>\n",
       "      <td>True</td>\n",
       "      <td>1925</td>\n",
       "    </tr>\n",
       "  </tbody>\n",
       "</table>\n",
       "</div>"
      ],
      "text/plain": [
       "   Unnamed: 0     tconst              primaryTitle             originalTitle  \\\n",
       "0           4  tt0010600                  The Doll                 Die Puppe   \n",
       "1           7  tt0011841             Way Down East             Way Down East   \n",
       "2           9  tt0012494                   Déstiny              Der müde Tod   \n",
       "3          25  tt0015163             The Navigator             The Navigator   \n",
       "4          38  tt0016220  The Phantom of the Opera  The Phantom of the Opera   \n",
       "\n",
       "  runtimeMinutes  numVotes  label  Year  \n",
       "0             66    1898.0   True  1919  \n",
       "1            145    5376.0   True  1920  \n",
       "2             97    5842.0   True  1921  \n",
       "3             59    9652.0   True  1924  \n",
       "4             93   17887.0   True  1925  "
      ]
     },
     "execution_count": 12,
     "metadata": {},
     "output_type": "execute_result"
    }
   ],
   "source": [
    "    # Step 6: Create column year from startYear and endYear\n",
    "train_df['startYear'] = df['startYear'].replace('\\\\N', np.nan).astype(float)\n",
    "train_df['endYear'] = df['endYear'].replace('\\\\N', np.nan).astype(float)\n",
    "train_df['Year'] = df['startYear'].fillna(train_df['endYear'])"
   ]
  },
  {
   "cell_type": "code",
   "execution_count": 13,
   "metadata": {},
   "outputs": [
    {
     "name": "stdout",
     "output_type": "stream",
     "text": [
      "Does the Year column have '\\N' values? True\n"
     ]
    }
   ],
   "source": [
    "# Check if the 'Year' column has '\\N' values\n",
    "has_n_values = (train_df['Year'] == '\\\\N').any()\n",
    "print(f\"Does the Year column have '\\\\N' values? {has_n_values}\")\n"
   ]
  },
  {
   "cell_type": "code",
   "execution_count": null,
   "metadata": {},
   "outputs": [],
   "source": []
  },
  {
   "cell_type": "code",
   "execution_count": 14,
   "metadata": {},
   "outputs": [
    {
     "name": "stdout",
     "output_type": "stream",
     "text": [
      "The range of years is from 1918 to \\N\n"
     ]
    }
   ],
   "source": [
    "year_min = train_df['Year'].min()\n",
    "year_max = train_df['Year'].max()\n",
    "print(f'The range of years is from {year_min} to {year_max}')"
   ]
  },
  {
   "cell_type": "code",
   "execution_count": 15,
   "metadata": {},
   "outputs": [
    {
     "data": {
      "image/png": "[encoded data removed]",
      "text/plain": [
       "<Figure size 640x480 with 1 Axes>"
      ]
     },
     "metadata": {},
     "output_type": "display_data"
    }
   ],
   "source": [
    "# Check for duplicate rows based on 'tconst' column\n",
    "duplicate_counts = train_df.duplicated(subset='tconst').value_counts()\n",
    "\n",
    "# Plot the results\n",
    "ax = duplicate_counts.plot(kind='bar')\n",
    "plt.xlabel('Duplicate Status')\n",
    "plt.ylabel('Count')\n",
    "plt.title('Count of Duplicate Movie Rows in train_df')\n",
    "plt.xticks(ticks=[0, 1], labels=['Unique', 'Duplicate'], rotation=0)\n",
    "\n",
    "# Add values on top of the bars\n",
    "for i in ax.containers:\n",
    "    ax.bar_label(i)\n",
    "\n",
    "plt.show()"
   ]
  },
  {
   "cell_type": "code",
   "execution_count": 16,
   "metadata": {},
   "outputs": [
    {
     "name": "stdout",
     "output_type": "stream",
     "text": [
      "      Unnamed: 0     tconst                       primaryTitle originalTitle  \\\n",
      "299         2988  tt0111666                 Wár ớf thé Búttớns           NaN   \n",
      "331         3398  tt0126861                             Denial        Denial   \n",
      "338         3461  tt0139615                               Slam           NaN   \n",
      "348         3579  tt0166110                              Bones         Bones   \n",
      "431         4415  tt0353357                       Dáy ớf Wráth           NaN   \n",
      "...          ...        ...                                ...           ...   \n",
      "7868        9147  tt5982852                        Jolly LLB 2   Jolly LLB 2   \n",
      "7915        9664  tt8017136  Tớny: My Méntớr thé Sériál Killér          Tony   \n",
      "7935        9803  tt8671462                         Invoking 5    Invoking 5   \n",
      "7936        9806  tt8694228                            Mikhael           NaN   \n",
      "7943        9884  tt9110170                         Wrong Turn    Wrong Turn   \n",
      "\n",
      "     runtimeMinutes  numVotes  label  Year  \n",
      "299              94       NaN   True  1994  \n",
      "331              93       NaN  False    \\N  \n",
      "338             100       NaN   True  1998  \n",
      "348              96       NaN  False  2001  \n",
      "431             109       NaN  False    \\N  \n",
      "...             ...       ...    ...   ...  \n",
      "7868            137       NaN   True  2017  \n",
      "7915            124       NaN   True    \\N  \n",
      "7935             90       NaN  False  2018  \n",
      "7936            150       NaN  False  2019  \n",
      "7943            109       NaN  False  2021  \n",
      "\n",
      "[177 rows x 8 columns]\n",
      "The number of duplicate instances based on Year, runtimeMinutes, and numVotes is: 177\n"
     ]
    }
   ],
   "source": [
    "# Check for duplicate rows based on 'Year', 'runtimeMinutes', and 'numVotes' columns\n",
    "duplicate_instances = train_df.duplicated(subset=['Year', 'runtimeMinutes', 'numVotes'], keep=False)\n",
    "\n",
    "# Display the duplicate instances\n",
    "duplicates_df = train_df[duplicate_instances]\n",
    "print(duplicates_df)\n",
    "print(f'The number of duplicate instances based on Year, runtimeMinutes, and numVotes is: {duplicates_df.shape[0]}')"
   ]
  },
  {
   "cell_type": "code",
   "execution_count": null,
   "metadata": {},
   "outputs": [],
   "source": []
  },
  {
   "cell_type": "code",
   "execution_count": 17,
   "metadata": {},
   "outputs": [
    {
     "name": "stdout",
     "output_type": "stream",
     "text": [
      "      Unnamed: 0     tconst                       primaryTitle  \\\n",
      "7            118  tt0023973             Thé Éáglé ánd thé Háwk   \n",
      "8            119  tt0023986                Émplớyéés' Éntráncé   \n",
      "12           163  tt0027478        The Crime of Monsieur Lange   \n",
      "13           180  tt0028333                         Swing Timé   \n",
      "38           466  tt0040626                  My Dear Secretary   \n",
      "...          ...        ...                                ...   \n",
      "7899        9446  tt7134096                 The Rhythm Section   \n",
      "7915        9664  tt8017136  Tớny: My Méntớr thé Sériál Killér   \n",
      "7935        9803  tt8671462                         Invoking 5   \n",
      "7936        9806  tt8694228                            Mikhael   \n",
      "7943        9884  tt9110170                         Wrong Turn   \n",
      "\n",
      "                   originalTitle runtimeMinutes  numVotes  label  Year  \n",
      "7                            NaN             73       NaN   True  1933  \n",
      "8                            NaN             75       NaN   True  1933  \n",
      "12    Le crime de Monsieur Lange             80       NaN   True  1936  \n",
      "13                           NaN            103       NaN   True  1936  \n",
      "38             My Dear Secretary             94       NaN  False  1948  \n",
      "...                          ...            ...       ...    ...   ...  \n",
      "7899          The Rhythm Section            109       NaN  False  2020  \n",
      "7915                        Tony            124       NaN   True    \\N  \n",
      "7935                  Invoking 5             90       NaN  False  2018  \n",
      "7936                         NaN            150       NaN  False  2019  \n",
      "7943                  Wrong Turn            109       NaN  False  2021  \n",
      "\n",
      "[790 rows x 8 columns]\n",
      "The number of movies without votes is: 790\n"
     ]
    }
   ],
   "source": [
    "# Check for instances where movies do not contain votes\n",
    "no_votes_df = train_df[train_df['numVotes'].isnull() | (train_df['numVotes'] == 0)]\n",
    "\n",
    "# Display the result\n",
    "print(no_votes_df)\n",
    "print(f'The number of movies without votes is: {no_votes_df.shape[0]}')"
   ]
  },
  {
   "cell_type": "code",
   "execution_count": 18,
   "metadata": {},
   "outputs": [
    {
     "data": {
      "image/png": "[encoded data removed]",
      "text/plain": [
       "<Figure size 1200x600 with 1 Axes>"
      ]
     },
     "metadata": {},
     "output_type": "display_data"
    }
   ],
   "source": [
    "# Convert startYear to numeric, setting errors='coerce' to handle non-numeric values\n",
    "train_df['Year'] = pd.to_numeric(train_df['Year'], errors='coerce')\n",
    "\n",
    "# Plot the distribution of movies by start year\n",
    "plt.figure(figsize=(12, 6))\n",
    "plt.hist(train_df['Year'].dropna(), bins=range(int(train_df['Year'].min()), int(train_df['Year'].max()) + 1, 1), edgecolor='black')\n",
    "plt.xlabel('Year')\n",
    "plt.ylabel('Number of Movies')\n",
    "plt.title('Distribution of Movies by Year')\n",
    "plt.show()"
   ]
  }
 ],
 "metadata": {
  "kernelspec": {
   "display_name": "Python 3",
   "language": "python",
   "name": "python3"
  },
  "language_info": {
   "codemirror_mode": {
    "name": "ipython",
    "version": 3
   },
   "file_extension": ".py",
   "mimetype": "text/x-python",
   "name": "python",
   "nbconvert_exporter": "python",
   "pygments_lexer": "ipython3",
   "version": "3.12.5"
  }
 },
 "nbformat": 4,
 "nbformat_minor": 2
}
