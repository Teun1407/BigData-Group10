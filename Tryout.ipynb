{
 "cells": [
  {
   "cell_type": "code",
   "execution_count": 32,
   "metadata": {},
   "outputs": [],
   "source": [
    "import duckdb\n",
    "import numpy as np\n",
    "from sklearn.model_selection import train_test_split\n",
    "from sklearn.ensemble import RandomForestClassifier\n",
    "from sklearn.metrics import accuracy_score\n",
    "import pandas as pd\n",
    "import json"
   ]
  },
  {
   "cell_type": "code",
   "execution_count": 33,
   "metadata": {},
   "outputs": [],
   "source": [
    "# Connect to an in-memory DuckDB instance\n",
    "con = duckdb.connect(database=':memory:')"
   ]
  },
  {
   "cell_type": "code",
   "execution_count": 34,
   "metadata": {},
   "outputs": [
    {
     "name": "stdout",
     "output_type": "stream",
     "text": [
      "   column0     tconst              primaryTitle             originalTitle  \\\n",
      "0        4  tt0010600                  The Doll                 Die Puppe   \n",
      "1        7  tt0011841             Way Down East             Way Down East   \n",
      "2        9  tt0012494                   Déstiny              Der müde Tod   \n",
      "3       25  tt0015163             The Navigator             The Navigator   \n",
      "4       38  tt0016220  The Phantom of the Opera  The Phantom of the Opera   \n",
      "\n",
      "  startYear endYear runtimeMinutes  numVotes  label  \n",
      "0      1919      \\N             66    1898.0   True  \n",
      "1      1920      \\N            145    5376.0   True  \n",
      "2      1921      \\N             97    5842.0   True  \n",
      "3      1924      \\N             59    9652.0   True  \n",
      "4      1925      \\N             93   17887.0   True  \n"
     ]
    }
   ],
   "source": [
    "# Load CSV files\n",
    "train_df = con.execute(\"SELECT * FROM 'imdb/train-*.csv'\").fetchdf()\n",
    "directors_df = con.execute(\"SELECT * FROM 'imdb/directing.json'\").fetchdf()\n",
    "writers_df = con.execute(\"SELECT * FROM 'imdb/writing.json'\").fetchdf()\n",
    "\n",
    "# Check data\n",
    "print(train_df.head())"
   ]
  },
  {
   "cell_type": "code",
   "execution_count": 35,
   "metadata": {},
   "outputs": [
    {
     "name": "stdout",
     "output_type": "stream",
     "text": [
      "  tconst director_id\n",
      "0      0           0\n",
      "0      0           1\n",
      "0      0           2\n",
      "0      0           3\n",
      "0      0           4\n",
      "  tconst writer_id\n",
      "0   None      None\n",
      "1   None      None\n",
      "2   None      None\n",
      "3   None      None\n",
      "4   None      None\n"
     ]
    }
   ],
   "source": [
    "# Convert JSON-like strings to actual dictionaries\n",
    "def safe_json_loads(x):\n",
    "\ttry:\n",
    "\t\treturn json.loads(x) if isinstance(x, str) and x else x\n",
    "\texcept json.JSONDecodeError:\n",
    "\t\treturn None\n",
    "\n",
    "directors_df['movie'] = directors_df['movie'].apply(safe_json_loads)\n",
    "directors_df['director'] = directors_df['director'].apply(safe_json_loads)\n",
    "\n",
    "writers_df['movie'] = writers_df['movie'].apply(safe_json_loads)\n",
    "writers_df['writer'] = writers_df['writer'].apply(safe_json_loads)\n",
    "\n",
    "# Explode dictionaries into separate rows\n",
    "directors_expanded = directors_df.explode('movie').explode('director')\n",
    "directors_expanded.rename(columns={'movie': 'tconst', 'director': 'director_id'}, inplace=True)\n",
    "\n",
    "writers_expanded = writers_df.explode('movie').explode('writer')\n",
    "writers_expanded.rename(columns={'movie': 'tconst', 'writer': 'writer_id'}, inplace=True)\n",
    "\n",
    "# Check the cleaned data\n",
    "print(directors_expanded.head())\n",
    "print(writers_expanded.head())"
   ]
  },
  {
   "cell_type": "code",
   "execution_count": 36,
   "metadata": {},
   "outputs": [],
   "source": [
    "# Create base tables in DuckDB from pandas DataFrames\n",
    "con.execute(\"CREATE TABLE train_df AS SELECT * FROM train_df\")\n",
    "con.execute(\"CREATE TABLE directors_expanded AS SELECT * FROM directors_expanded\")\n",
    "con.execute(\"CREATE TABLE writers_expanded AS SELECT * FROM writers_expanded\")\n",
    "\n",
    "# Create indexes for faster lookup\n",
    "con.execute(\"CREATE INDEX train_df_tconst_idx ON train_df (tconst);\")\n",
    "con.execute(\"CREATE INDEX directors_expanded_tconst_idx ON directors_expanded (tconst);\")\n",
    "con.execute(\"CREATE INDEX writers_expanded_tconst_idx ON writers_expanded (tconst);\")\n",
    "\n",
    "# Join tables\n",
    "movies_df = con.execute(\"\"\"\n",
    "    SELECT t.*, d.director_id, w.writer_id\n",
    "    FROM train_df t\n",
    "    LEFT JOIN directors_expanded d ON t.tconst = d.tconst\n",
    "    LEFT JOIN writers_expanded w ON t.tconst = w.tconst\n",
    "\"\"\").fetchdf()"
   ]
  },
  {
   "cell_type": "code",
   "execution_count": 37,
   "metadata": {},
   "outputs": [
    {
     "name": "stdout",
     "output_type": "stream",
     "text": [
      "   column0     tconst               primaryTitle     originalTitle startYear  \\\n",
      "0       25  tt0015163              The Navigator     The Navigator      1924   \n",
      "1      746  tt0051507  Curse of the Faceless Man              None        \\N   \n",
      "2      766  tt0052151        Run Silent Run Deep              None      1958   \n",
      "3      815  tt0053242                   Sápphiré              None      1959   \n",
      "4      989  tt0057530           A Stitch in Time  A Stitch in Time      1963   \n",
      "\n",
      "  endYear runtimeMinutes  numVotes  label director_id  writer_id  \n",
      "0      \\N             59    9652.0   True        None       <NA>  \n",
      "1    1958             67    1035.0  False        None       <NA>  \n",
      "2      \\N             93   11169.0   True        None       <NA>  \n",
      "3      \\N             92    1730.0   True        None       <NA>  \n",
      "4      \\N             89    1122.0   True        None       <NA>  \n"
     ]
    }
   ],
   "source": [
    "# Check the final dataset\n",
    "print(movies_df.head())"
   ]
  },
  {
   "cell_type": "code",
   "execution_count": 38,
   "metadata": {},
   "outputs": [
    {
     "name": "stderr",
     "output_type": "stream",
     "text": [
      "C:\\Users\\teunb\\AppData\\Local\\Temp\\ipykernel_30832\\4125664364.py:6: FutureWarning: A value is trying to be set on a copy of a DataFrame or Series through chained assignment using an inplace method.\n",
      "The behavior will change in pandas 3.0. This inplace method will never work because the intermediate object on which we are setting values always behaves as a copy.\n",
      "\n",
      "For example, when doing 'df[col].method(value, inplace=True)', try using 'df.method({col: value}, inplace=True)' or df[col] = df[col].method(value) instead, to perform the operation inplace on the original object.\n",
      "\n",
      "\n",
      "  movies_df['startYear'].fillna(movies_df['endYear'], inplace=True)\n",
      "C:\\Users\\teunb\\AppData\\Local\\Temp\\ipykernel_30832\\4125664364.py:9: FutureWarning: A value is trying to be set on a copy of a DataFrame or Series through chained assignment using an inplace method.\n",
      "The behavior will change in pandas 3.0. This inplace method will never work because the intermediate object on which we are setting values always behaves as a copy.\n",
      "\n",
      "For example, when doing 'df[col].method(value, inplace=True)', try using 'df.method({col: value}, inplace=True)' or df[col] = df[col].method(value) instead, to perform the operation inplace on the original object.\n",
      "\n",
      "\n",
      "  movies_df['primaryTitle'].fillna(movies_df['originalTitle'], inplace=True)\n"
     ]
    }
   ],
   "source": [
    "# Convert startYear to integer and then to movie age\n",
    "movies_df['startYear'] = pd.to_numeric(movies_df['startYear'], errors='coerce')\n",
    "movies_df['endYear'] = pd.to_numeric(movies_df['endYear'], errors='coerce')\n",
    "\n",
    "# If startYear is empty or NaN, fill it with endYear\n",
    "movies_df['startYear'].fillna(movies_df['endYear'], inplace=True)\n",
    "\n",
    "# If primaryTitle is empty or NaN, fill it with originalTitle\n",
    "movies_df['primaryTitle'].fillna(movies_df['originalTitle'], inplace=True)\n",
    "\n",
    "# Remove the columns originalTitle and endYear\n",
    "movies_df.drop(columns=['originalTitle', 'endYear'], inplace=True)\n",
    "\n",
    "movies_df['movie_age'] = 2025 - movies_df['startYear']\n",
    "\n",
    "# Log-transform numVotes\n",
    "movies_df['log_numVotes'] = np.log1p(movies_df['numVotes'])\n",
    "\n",
    "# Categorize runtime\n",
    "movies_df['runtime_category'] = pd.cut(\n",
    "    pd.to_numeric(movies_df['runtimeMinutes'], errors='coerce'),\n",
    "    bins=[0, 60, 90, 120, 180, np.inf],\n",
    "    labels=['short', 'medium', 'long', 'very long', 'epic']\n",
    ")\n",
    "\n",
    "movies_df.to_csv(\"cleaned_imdb_data.csv\", index=False)"
   ]
  },
  {
   "cell_type": "code",
   "execution_count": 39,
   "metadata": {},
   "outputs": [],
   "source": [
    "# Load data\n",
    "df = pd.read_csv(\"cleaned_imdb_data.csv\")\n",
    "\n",
    "# Prepare features and labels\n",
    "X = df[['movie_age', 'log_numVotes']]  # Add more features as needed\n",
    "y = df['label']"
   ]
  },
  {
   "cell_type": "code",
   "execution_count": 40,
   "metadata": {},
   "outputs": [
    {
     "name": "stdout",
     "output_type": "stream",
     "text": [
      "Accuracy: 0.5910804020100503\n"
     ]
    }
   ],
   "source": [
    "# Split data\n",
    "X_train, X_test, y_train, y_test = train_test_split(X, y, test_size=0.2, random_state=42)\n",
    "\n",
    "# Train classifier\n",
    "clf = RandomForestClassifier(n_estimators=100, random_state=42)\n",
    "clf.fit(X_train, y_train)\n",
    "\n",
    "# Evaluate\n",
    "y_pred = clf.predict(X_test)\n",
    "print(\"Accuracy:\", accuracy_score(y_test, y_pred))"
   ]
  },
  {
   "cell_type": "code",
   "execution_count": 41,
   "metadata": {},
   "outputs": [],
   "source": [
    "# Load test data\n",
    "test_df = con.execute(\"SELECT * FROM 'imdb/test_hidden.csv'\").fetchdf()\n",
    "\n",
    "# Convert startYear to numeric\n",
    "test_df['startYear'] = pd.to_numeric(test_df['startYear'], errors='coerce')\n",
    "\n",
    "# Apply same feature transformations\n",
    "test_df['movie_age'] = 2025 - test_df['startYear']\n",
    "test_df['log_numVotes'] = np.log1p(test_df['numVotes'])\n",
    "\n",
    "# Predict\n",
    "X_test_hidden = test_df[['movie_age', 'log_numVotes']]\n",
    "test_df['predicted_label'] = clf.predict(X_test_hidden)"
   ]
  },
  {
   "cell_type": "code",
   "execution_count": 42,
   "metadata": {},
   "outputs": [],
   "source": [
    "# Load validation data\n",
    "validation_df = con.execute(\"SELECT * FROM 'imdb/validation_hidden.csv'\").fetchdf()\n",
    "\n",
    "# Convert startYear to numeric\n",
    "validation_df['startYear'] = pd.to_numeric(validation_df['startYear'], errors='coerce')\n",
    "\n",
    "# Apply same feature transformations\n",
    "validation_df['movie_age'] = 2025 - validation_df['startYear']\n",
    "validation_df['log_numVotes'] = np.log1p(validation_df['numVotes'])\n",
    "\n",
    "# Predict\n",
    "X_validation_hidden = validation_df[['movie_age', 'log_numVotes']]\n",
    "validation_df['predicted_label'] = clf.predict(X_validation_hidden)"
   ]
  },
  {
   "cell_type": "code",
   "execution_count": 43,
   "metadata": {},
   "outputs": [],
   "source": [
    "# Save for submission\n",
    "test_df[['predicted_label']].to_csv(\"submission_test.csv\", index=False, header=False)"
   ]
  },
  {
   "cell_type": "code",
   "execution_count": 44,
   "metadata": {},
   "outputs": [],
   "source": [
    "# Save for submission\n",
    "validation_df[['predicted_label']].to_csv(\"submission_validation.csv\", index=False, header=False)"
   ]
  }
 ],
 "metadata": {
  "kernelspec": {
   "display_name": "Python 3",
   "language": "python",
   "name": "python3"
  },
  "language_info": {
   "codemirror_mode": {
    "name": "ipython",
    "version": 3
   },
   "file_extension": ".py",
   "mimetype": "text/x-python",
   "name": "python",
   "nbconvert_exporter": "python",
   "pygments_lexer": "ipython3",
   "version": "3.12.9"
  }
 },
 "nbformat": 4,
 "nbformat_minor": 2
}
